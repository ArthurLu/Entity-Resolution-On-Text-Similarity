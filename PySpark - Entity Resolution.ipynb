{
 "cells": [
  {
   "cell_type": "markdown",
   "metadata": {},
   "source": [
    "# Goal\n",
    "\n",
    "In this project, we need to find out commercial products listed on Google that refer to the same entity across Amazon by comparing the similarity. This problem is called **Entity Resolution**.\n",
    "\n",
    "This notebook will demonstrate how we can use Apache Spark to do following things: \n",
    "* Applied powerful and scalable text analysis techniques.\n",
    "* Perform entity resolution across two datasets of commercial products.\n",
    "* Discussed the use scenario of **Broadcast Variable**.\n",
    "* Implemented a scalable ER algorithm."
   ]
  },
  {
   "cell_type": "markdown",
   "metadata": {},
   "source": [
    "# What is Entity Resolution\n",
    "\n",
    "Entity Resolution (ER) refers to the task of finding records in a dataset that refer to the same entity across different data sources (e.g., data files, books, websites, databases). ER is necessary when joining datasets based on entities that may or may not share a common identifier (e.g., database key, URI, National identification number), as may be the case due to differences in record shape, storage location, and/or curator style or preference. A dataset that has undergone ER may be referred to as being cross-linked."
   ]
  },
  {
   "cell_type": "markdown",
   "metadata": {},
   "source": [
    "# Summary of Data Set\n",
    "\n",
    "* Google.csv, the commercial products dataset from Google.\n",
    "* Amazon.csv, the commercial products dataset from Amazon.\n",
    "* Amazon_Google_perfectMapping.csv, the identifiers mapping of products between Google and Amazon. \n",
    "* stopwords.txt, a list of common English words\n",
    "\n",
    "[Link of data set](https://code.google.com/archive/p/metric-learning/source/default/source)"
   ]
  },
  {
   "cell_type": "markdown",
   "metadata": {},
   "source": [
    "# Load Data\n",
    "\n",
    "Omitting the headers, we load these data files into pair RDDs where the mapping ID is the key, and the value is a string consisting of the name/title, description, and manufacturer from the record.\n",
    "\n",
    "* The file format of an Amazon line is: [\"id\",\"title\",\"description\",\"manufacturer\",\"price\"]\n",
    "* The file format of a Google line is: [\"id\",\"name\",\"description\",\"manufacturer\",\"price\"]"
   ]
  },
  {
   "cell_type": "code",
   "execution_count": 2,
   "metadata": {
    "collapsed": false
   },
   "outputs": [
    {
     "name": "stdout",
     "output_type": "stream",
     "text": [
      "Google.csv - Read 3227 lines, successfully parsed 3226 lines, failed to parse 0 lines\n",
      "Amazon.csv - Read 1364 lines, successfully parsed 1363 lines, failed to parse 0 lines\n"
     ]
    }
   ],
   "source": [
    "import re\n",
    "DATAFILE_PATTERN = '^(.+),\"(.+)\",(.*),(.*),(.*)'\n",
    "dir_path = \"data/\"\n",
    "\n",
    "def removeQuotes(s):\n",
    "    \"\"\"\n",
    "    Remove quotation marks from an input string\n",
    "    \"\"\"\n",
    "    return ''.join(i for i in s if i!='\"')\n",
    "\n",
    "def parseDatafileLine(datafileLine):\n",
    "    \"\"\"\n",
    "    Parse a line of the data file using the specified regular expression pattern\n",
    "    \"\"\"\n",
    "    match = re.search(DATAFILE_PATTERN, datafileLine)\n",
    "    if match is None:\n",
    "        print 'Invalid datafile line: {}'.format(datafileLine)\n",
    "        return (datafileLine, -1)\n",
    "    elif match.group(1) == '\"id\"':\n",
    "        print 'Header datafile line: {}'.format(datafileLine)\n",
    "        return (datafileLine, 0)\n",
    "    else:\n",
    "        product = '{} {} {}'.format(match.group(2), match.group(3), match.group(4))\n",
    "        return ((removeQuotes(match.group(1)), product), 1)\n",
    "    \n",
    "def parseData(filename):\n",
    "    \"\"\"\n",
    "    Parse a data file\n",
    "    \"\"\"\n",
    "    return (sc\n",
    "            .textFile(filename, 4, 0)\n",
    "            .map(parseDatafileLine))\n",
    "\n",
    "def loadData(filename):\n",
    "    \"\"\"\n",
    "    Load a data file\n",
    "    \"\"\"\n",
    "    raw = parseData(dir_path+filename).cache()\n",
    "    failed = (raw\n",
    "              .filter(lambda s: s[1] == -1)\n",
    "              .map(lambda s: s[0]))\n",
    "    for line in failed.take(10):\n",
    "        print '{} - Invalid datafile line: {}'.format(path, line)\n",
    "    valid = (raw\n",
    "             .filter(lambda s: s[1] == 1)\n",
    "             .map(lambda s: s[0])\n",
    "             .cache())\n",
    "    print '{} - Read {} lines, successfully parsed {} lines, failed to parse {} lines'.format(filename,\n",
    "                                                                                        raw.count(),\n",
    "                                                                                        valid.count(),\n",
    "                                                                                        failed.count())\n",
    "    assert failed.count() == 0\n",
    "    assert raw.count() == (valid.count() + 1)\n",
    "    return valid\n",
    "\n",
    "google = loadData(\"Google.csv\")\n",
    "amazon = loadData(\"Amazon.csv\")"
   ]
  },
  {
   "cell_type": "code",
   "execution_count": 3,
   "metadata": {
    "collapsed": false
   },
   "outputs": [
    {
     "name": "stdout",
     "output_type": "stream",
     "text": [
      "Google: http://www.google.com/base/feeds/snippets/11125907881740407428: learning quickbooks 2007 \"learning quickbooks 2007\" \"intuit\"\n",
      "\n",
      "Google: http://www.google.com/base/feeds/snippets/11538923464407758599: superstart! fun with reading & writing! \"fun with reading & writing! is designed to help kids learn to read and write better through exercises puzzle-solving creative writing decoding and more!\" \n",
      "\n",
      "Google: http://www.google.com/base/feeds/snippets/11343515411965421256: qb pos 6.0 basic software \"qb pos 6.0 basic retail mngmt software. for retailers who need basic inventory sales and customer tracking.\" \"intuit\"\n",
      "\n",
      "Amazon: b000jz4hqo: clickart 950 000 - premier image pack (dvd-rom)  \"broderbund\"\n",
      "\n",
      "Amazon: b0006zf55o: ca international - arcserve lap/desktop oem 30pk \"oem arcserve backup v11.1 win 30u for laptops and desktops\" \"computer associates\"\n",
      "\n",
      "Amazon: b00004tkvy: noah's ark activity center (jewel case ages 3-8)  \"victory multimedia\"\n",
      "\n"
     ]
    }
   ],
   "source": [
    "for line in google.take(3):\n",
    "    print 'Google: {}: {}\\n'.format(line[0], line[1])\n",
    "\n",
    "for line in amazon.take(3):\n",
    "    print 'Amazon: {}: {}\\n'.format(line[0], line[1])"
   ]
  },
  {
   "cell_type": "markdown",
   "metadata": {},
   "source": [
    "# ER as Text Similarity - Bag of Words\n",
    "\n",
    "A simple approach to in this problem is to treat all records as strings and compute their similarity with a string distance function. [Bag-of-words][bag-of-words] is a conceptually simple yet powerful approach to text analysis.\n",
    "\n",
    "[bag-of-words]: https://en.wikipedia.org/wiki/Bag-of-words_model"
   ]
  },
  {
   "cell_type": "markdown",
   "metadata": {},
   "source": [
    "## Remove stopwords\n",
    "\n",
    "Stopwords are common words that do not contribute much to the content or meaning of a document (e.g., \"the\", \"a\", \"is\", \"to\", etc.). Stopwords add noise to bag-of-words comparisons, so they are usually excluded."
   ]
  },
  {
   "cell_type": "code",
   "execution_count": 4,
   "metadata": {
    "collapsed": false
   },
   "outputs": [
    {
     "name": "stdout",
     "output_type": "stream",
     "text": [
      "These are the stopwords: set([u'all', u'just', u'being', u'over', u'both', u'through', u'yourselves', u'its', u'before', u'with', u'had', u'should', u'to', u'only', u'under', u'ours', u'has', u'do', u'them', u'his', u'very', u'stopword', u'they', u'not', u'during', u'now', u'him', u'nor', u'did', u'these', u't', u'each', u'where', u'because', u'doing', u'theirs', u'some', u'are', u'our', u'ourselves', u'out', u'what', u'for', u'below', u'does', u'above', u'between', u'she', u'be', u'we', u'after', u'here', u'hers', u'by', u'on', u'about', u'of', u'against', u's', u'or', u'own', u'into', u'yourself', u'down', u'your', u'from', u'her', u'whom', u'there', u'been', u'few', u'too', u'themselves', u'was', u'until', u'more', u'himself', u'that', u'but', u'off', u'herself', u'than', u'those', u'he', u'me', u'myself', u'this', u'up', u'will', u'while', u'can', u'were', u'my', u'and', u'then', u'is', u'in', u'am', u'it', u'an', u'as', u'itself', u'at', u'have', u'further', u'their', u'if', u'again', u'no', u'when', u'same', u'any', u'how', u'other', u'which', u'you', u'who', u'most', u'such', u'why', u'a', u'don', u'i', u'having', u'so', u'the', u'yours', u'once'])\n"
     ]
    }
   ],
   "source": [
    "stopwords = set(sc.textFile(dir_path+\"stopwords.csv\").collect())\n",
    "print 'These are the stopwords: {}'.format(stopwords)"
   ]
  },
  {
   "cell_type": "markdown",
   "metadata": {},
   "source": [
    "## Tokenizing the datasets"
   ]
  },
  {
   "cell_type": "code",
   "execution_count": 5,
   "metadata": {
    "collapsed": false
   },
   "outputs": [],
   "source": [
    "def tokenize(string):\n",
    "    \"\"\" \n",
    "    An implementation of input string tokenization that excludes stopwords\n",
    "    \"\"\"\n",
    "    return [w for w in re.sub(r'\\W+', ' ', string).strip().lower().split() if w not in stopwords]\n",
    "\n",
    "\n",
    "amazonRecToToken = amazon.map(lambda pair: (pair[0], tokenize(pair[1])))\n",
    "googleRecToToken = google.map(lambda pair: (pair[0], tokenize(pair[1])))"
   ]
  },
  {
   "cell_type": "code",
   "execution_count": 6,
   "metadata": {
    "collapsed": false
   },
   "outputs": [
    {
     "name": "stdout",
     "output_type": "stream",
     "text": [
      "There are 297373 tokens in the combined datasets\n"
     ]
    }
   ],
   "source": [
    "from operator import add\n",
    "\n",
    "def countTokens(vendorRDD):\n",
    "    \"\"\" \n",
    "    Count and return the number of tokens\n",
    "    \"\"\"\n",
    "    return vendorRDD.map(lambda pair: len(pair[1])).reduce(add)\n",
    "\n",
    "print 'There are {} tokens in the combined datasets'.format(countTokens(amazonRecToToken) + countTokens(googleRecToToken))"
   ]
  },
  {
   "cell_type": "code",
   "execution_count": 7,
   "metadata": {
    "collapsed": false
   },
   "outputs": [
    {
     "name": "stdout",
     "output_type": "stream",
     "text": [
      "The Amazon record with ID \"b000ndibqy\" has the most tokens, 2057.\n",
      "The Google record with ID \"http://www.google.com/base/feeds/snippets/7704167897291051109\" has the most tokens, 61.\n"
     ]
    }
   ],
   "source": [
    "def findBiggestRecord(vendorRDD):\n",
    "    \"\"\" \n",
    "    Find and return the record with the largest number of tokens\n",
    "    \"\"\"\n",
    "    return vendorRDD.takeOrdered(1, key=lambda pair: -len(pair[1]))\n",
    "\n",
    "biggestRecordAmazon = findBiggestRecord(amazonRecToToken)\n",
    "print 'The Amazon record with ID \"{}\" has the most tokens, {}.'.format(biggestRecordAmazon[0][0], \n",
    "                                                                       len(biggestRecordAmazon[0][1]))\n",
    "biggestRecordGoogle = findBiggestRecord(googleRecToToken)\n",
    "print 'The Google record with ID \"{}\" has the most tokens, {}.'.format(biggestRecordGoogle[0][0], \n",
    "                                                                       len(biggestRecordGoogle[0][1]))"
   ]
  },
  {
   "cell_type": "markdown",
   "metadata": {},
   "source": [
    "# ER as Text Similarity - Weighted Bag-of-Words using TF-IDF\n",
    "\n",
    "Bag-of-words comparisons are not very good when all tokens are treated the same: some tokens are more important than others. Weights give us a way to specify which tokens to favor.\n",
    "\n",
    "* TF\n",
    "    * TF rewards tokens that appear many times in the same document. It is computed as the frequency of a token in a document, that is, if document d contains 100 tokens and token t appears in d 5 times, then the TF weight of t in d is 5/100 = 1/20. The intuition for TF is that if a word occurs often in a document, then it is more important to the meaning of the document.\n",
    "* IDF\n",
    "    * IDF rewards tokens that are rare overall in a dataset. The intuition is that it is more significant if two documents share a rare word than a common one. IDF weight for a token, t, in a set of documents, U, is computed as follows:\n",
    "        * Let N be the total number of documents in U\n",
    "        * Find n(t), the number of documents in U that contain t\n",
    "        * Then IDF(t) = N/n(t)."
   ]
  },
  {
   "cell_type": "markdown",
   "metadata": {},
   "source": [
    "## Create a corpus"
   ]
  },
  {
   "cell_type": "code",
   "execution_count": 8,
   "metadata": {
    "collapsed": true
   },
   "outputs": [],
   "source": [
    "corpusRDD = googleRecToToken.union(amazonRecToToken)"
   ]
  },
  {
   "cell_type": "code",
   "execution_count": 9,
   "metadata": {
    "collapsed": false
   },
   "outputs": [
    {
     "name": "stdout",
     "output_type": "stream",
     "text": [
      "('http://www.google.com/base/feeds/snippets/11125907881740407428', ['learning', 'quickbooks', '2007', 'learning', 'quickbooks', '2007', 'intuit'])\n",
      "('http://www.google.com/base/feeds/snippets/11538923464407758599', ['superstart', 'fun', 'reading', 'writing', 'fun', 'reading', 'writing', 'designed', 'help', 'kids', 'learn', 'read', 'write', 'better', 'exercises', 'puzzle', 'solving', 'creative', 'writing', 'decoding'])\n",
      "('http://www.google.com/base/feeds/snippets/11343515411965421256', ['qb', 'pos', '6', '0', 'basic', 'software', 'qb', 'pos', '6', '0', 'basic', 'retail', 'mngmt', 'software', 'retailers', 'need', 'basic', 'inventory', 'sales', 'customer', 'tracking', 'intuit'])\n",
      "('http://www.google.com/base/feeds/snippets/12049235575237146821', ['math', 'missions', 'amazing', 'arcade', 'adventure', 'grades', '3', '5', 'save', 'spectacle', 'city', 'disrupting', 'randall', 'underling', 'plan', 'drive', 'stores', 'business', 'take', 'city', 'solve', 'real', 'world', 'math', 'challenges', 'uniquely', 'entertaining', 'stores', 'make', 'theme', 'successful'])\n",
      "('http://www.google.com/base/feeds/snippets/12244614697089679523', ['production', 'prem', 'cs3', 'mac', 'upgrad', 'adobe', 'cs3', 'production', 'premium', 'mac', 'upgrade', 'production', 'studio', 'premium', 'standard', 'adobe', 'software'])\n"
     ]
    }
   ],
   "source": [
    "for i in corpusRDD.take(5):\n",
    "    print(i)"
   ]
  },
  {
   "cell_type": "markdown",
   "metadata": {},
   "source": [
    "## TF"
   ]
  },
  {
   "cell_type": "code",
   "execution_count": 10,
   "metadata": {
    "collapsed": true
   },
   "outputs": [],
   "source": [
    "def tf(tokens):\n",
    "    \"\"\" \n",
    "    Compute TF\n",
    "    \"\"\"\n",
    "    TF = {}\n",
    "    unit = 1.0/len(tokens)\n",
    "    for token in tokens:\n",
    "        if token in TF:\n",
    "            TF[token] += unit\n",
    "        else:\n",
    "            TF[token] = unit\n",
    "    return TF"
   ]
  },
  {
   "cell_type": "markdown",
   "metadata": {},
   "source": [
    "## IDF"
   ]
  },
  {
   "cell_type": "code",
   "execution_count": 11,
   "metadata": {
    "collapsed": false
   },
   "outputs": [
    {
     "name": "stdout",
     "output_type": "stream",
     "text": [
      "There are 17078 unique tokens in the datasets.\n"
     ]
    }
   ],
   "source": [
    "def idfs(corpus):\n",
    "    \"\"\" \n",
    "    Compute IDF\n",
    "    \"\"\"\n",
    "    uniqueTokens = corpus.flatMap(lambda pair: set(pair[1]))\n",
    "    tokenCountPairTuple = uniqueTokens.map(lambda token: (token, 1.0))\n",
    "    tokenSumPairTuple = tokenCountPairTuple.reduceByKey(add)\n",
    "    N = corpus.count()\n",
    "    return (tokenSumPairTuple.map(lambda pair: (pair[0], N/pair[1])))\n",
    "\n",
    "idfsFull = idfs(amazonRecToToken.union(googleRecToToken))\n",
    "print 'There are {} unique tokens in the datasets.'.format(idfsFull.count())"
   ]
  },
  {
   "cell_type": "code",
   "execution_count": 12,
   "metadata": {
    "collapsed": false
   },
   "outputs": [
    {
     "data": {
      "text/plain": [
       "[('paperless', 4589.0),\n",
       " ('promenade', 4589.0),\n",
       " ('presentationsimply', 4589.0),\n",
       " ('fawn', 4589.0),\n",
       " ('believed', 4589.0)]"
      ]
     },
     "execution_count": 12,
     "metadata": {},
     "output_type": "execute_result"
    }
   ],
   "source": [
    "# Top 5 idfs\n",
    "idfsFull.takeOrdered(5, lambda s: -s[1])"
   ]
  },
  {
   "cell_type": "code",
   "execution_count": 13,
   "metadata": {
    "collapsed": false
   },
   "outputs": [
    {
     "data": {
      "text/plain": [
       "[('software', 2.472521551724138),\n",
       " ('mac', 5.616891064871481),\n",
       " ('1', 5.816223067173637),\n",
       " ('windows', 6.3647711511789185),\n",
       " ('system', 6.748529411764705)]"
      ]
     },
     "execution_count": 13,
     "metadata": {},
     "output_type": "execute_result"
    }
   ],
   "source": [
    "# Bottom 5 idfs\n",
    "idfsFull.takeOrdered(5, lambda s: s[1])"
   ]
  },
  {
   "cell_type": "code",
   "execution_count": 14,
   "metadata": {
    "collapsed": false
   },
   "outputs": [
    {
     "data": {
      "text/plain": [
       "<matplotlib.text.Text at 0x1097c4d10>"
      ]
     },
     "execution_count": 14,
     "metadata": {},
     "output_type": "execute_result"
    },
    {
     "data": {
      "image/png": "[encoded data removed]",
      "text/plain": [
       "<matplotlib.figure.Figure at 0x10966f290>"
      ]
     },
     "metadata": {},
     "output_type": "display_data"
    }
   ],
   "source": [
    "import matplotlib.pyplot as plt\n",
    "%matplotlib inline\n",
    "\n",
    "idf_values = idfsFull.map(lambda pair: pair[1]).collect()\n",
    "fig = plt.figure(figsize=(8, 4))\n",
    "plt.hist(idf_values, 50)\n",
    "plt.title(\"Histogram of idf values\")\n",
    "plt.xlabel(\"idf values\")\n",
    "plt.ylabel(\"frequency\")"
   ]
  },
  {
   "cell_type": "markdown",
   "metadata": {},
   "source": [
    "## TF-IDF"
   ]
  },
  {
   "cell_type": "code",
   "execution_count": 15,
   "metadata": {
    "collapsed": false
   },
   "outputs": [],
   "source": [
    "def tfidf(tokens, idfs):\n",
    "    \"\"\" \n",
    "    Compute TF-IDF\n",
    "    \"\"\"\n",
    "    tfs = tf(tokens)\n",
    "    tfIdfDict = dict((token, tfs[token]*idfs[token]) for token in tokens)\n",
    "    return tfIdfDict"
   ]
  },
  {
   "cell_type": "code",
   "execution_count": 16,
   "metadata": {
    "collapsed": false
   },
   "outputs": [
    {
     "name": "stdout",
     "output_type": "stream",
     "text": [
      "Amazon record \"b000hkgj8k\" has tokens and weights:\n",
      "{'autocad': 152.96666666666664, 'autodesk': 23.901041666666664, 'courseware': 152.96666666666664, 'psg': 95.60416666666666, '2007': 2.908111533586818, 'customizing': 76.48333333333332, 'interface': 3.9835069444444446}\n",
      "Amazon record \"b000jz4hqo\" has tokens and weights: \n",
      "{'rom': 2.4051362683438153, 'clickart': 56.65432098765432, '950': 254.94444444444443, 'image': 3.6948470209339774, 'premier': 9.27070707070707, '000': 6.218157181571815, 'dvd': 1.287598204264871, 'broderbund': 22.169082125603865, 'pack': 2.98180636777128}\n"
     ]
    }
   ],
   "source": [
    "recb000hkgj8k_tokens = amazonRecToToken.filter(lambda x: x[0] == 'b000hkgj8k').collect()[0][1]\n",
    "idfsWeights = idfsFull.collectAsMap()\n",
    "recb000hkgj8k_tfidf = tfidf(recb000hkgj8k_tokens, idfsWeights)\n",
    "\n",
    "recb000jz4hqo_tokens = amazonRecToToken.filter(lambda x: x[0] == 'b000jz4hqo').collect()[0][1]\n",
    "recb000jz4hqo_tfidf = tfidf(recb000jz4hqo_tokens, idfsWeights)\n",
    "\n",
    "print 'Amazon record \"b000hkgj8k\" has tokens and weights:\\n{}'.format(recb000hkgj8k_tfidf)\n",
    "print 'Amazon record \"b000jz4hqo\" has tokens and weights: \\n{}'.format(recb000jz4hqo_tfidf)"
   ]
  },
  {
   "cell_type": "markdown",
   "metadata": {},
   "source": [
    "# ER as Text Similarity - Cosine Similarity\n",
    "\n",
    "Now it's ready to do text comparisons in a formal way. The metric of string distance we will use is called **[cosine similarity][cosine]**. We will treat each document as a vector in some high dimensional space. Then, to compare two documents we compute the cosine of the angle between their two document vectors. \n",
    "\n",
    "The similarity(cosine of the angle) is defined by:\n",
    "\\\\[ similarity = \\cos \\theta = \\frac{a \\cdot b}{\\|a\\| \\|b\\|} = \\frac{\\sum a_i b_i}{\\sqrt{\\sum a_i^2} \\sqrt{\\sum b_i^2}} \\\\]\n",
    "\n",
    "[cosine]: https://en.wikipedia.org/wiki/Cosine_similarity"
   ]
  },
  {
   "cell_type": "code",
   "execution_count": 17,
   "metadata": {
    "collapsed": true
   },
   "outputs": [],
   "source": [
    "def norm(a):\n",
    "    \"\"\" \n",
    "    Compute square root of the dot product\n",
    "    \"\"\"\n",
    "    ans = 0\n",
    "    for val in a.values():\n",
    "        ans += val**2\n",
    "    return ans**0.5"
   ]
  },
  {
   "cell_type": "markdown",
   "metadata": {},
   "source": [
    "## Perform Entity Resolution\n",
    "\n",
    "For every product record in the Google dataset, we need to compute its similarity to every record in the Amazon dataset. Because the computation of the combined dataset would be large, we need to do following two things to avoid that:\n",
    "* Precomputation: Precompute the tf-idf and norm values of each record.\n",
    "* [Inverted-Indices][inverted]: It is a data structure that will allow us to avoid making quadratically many token comparisons. It maps each token in the dataset to the list of documents that contain the token. So, instead of comparing, record by record, each token to every other token to see if they match, we will use inverted indices to look up records that match on a particular token. \n",
    "\n",
    "[inverted]:[https://en.wikipedia.org/wiki/Inverted_index]"
   ]
  },
  {
   "cell_type": "code",
   "execution_count": 18,
   "metadata": {
    "collapsed": false
   },
   "outputs": [],
   "source": [
    "idfsBroadcast = sc.broadcast(idfsWeights)\n",
    "\n",
    "# Precomputation of tf-idf\n",
    "amazonWeights = amazonRecToToken.map(lambda pair: (pair[0], tfidf(pair[1], idfsBroadcast.value))).cache()\n",
    "amazonWeightsBroadcast = sc.broadcast(amazonWeights.collectAsMap())\n",
    "googleWeights = googleRecToToken.map(lambda pair: (pair[0], tfidf(pair[1], idfsBroadcast.value))).cache()\n",
    "googleWeightsBroadcast = sc.broadcast(googleWeights.collectAsMap())"
   ]
  },
  {
   "cell_type": "code",
   "execution_count": 19,
   "metadata": {
    "collapsed": false
   },
   "outputs": [],
   "source": [
    "# Precomputation of Norm\n",
    "amazonNorms = amazonWeights.map(lambda pair: (pair[0], norm(pair[1]))).collectAsMap()\n",
    "amazonNormsBroadcast = sc.broadcast(amazonNorms)\n",
    "googleNorms = googleWeights.map(lambda pair: (pair[0], norm(pair[1]))).collectAsMap()\n",
    "googleNormsBroadcast = sc.broadcast(googleNorms)"
   ]
  },
  {
   "cell_type": "code",
   "execution_count": 20,
   "metadata": {
    "collapsed": false
   },
   "outputs": [
    {
     "name": "stdout",
     "output_type": "stream",
     "text": [
      "There are 111387 Amazon inverted pairs and 77678 Google inverted pairs.\n"
     ]
    }
   ],
   "source": [
    "def invert(record):\n",
    "    \"\"\" \n",
    "    Invert (ID, tokens) to a list of (token, ID)\n",
    "    \"\"\"\n",
    "    ID = record[0]\n",
    "    pairs = [(token, ID) for token in record[1]]\n",
    "    return pairs\n",
    "\n",
    "amazonInvPairs = (amazonWeights\n",
    "                  .flatMap(invert)\n",
    "                  .cache())\n",
    "\n",
    "googleInvPairs = (googleWeights\n",
    "                  .flatMap(invert)\n",
    "                  .cache())\n",
    "\n",
    "print \"There are {} Amazon inverted pairs and {} Google inverted pairs.\".format(amazonInvPairs.count(),\n",
    "                                                                                googleInvPairs.count())"
   ]
  },
  {
   "cell_type": "code",
   "execution_count": 21,
   "metadata": {
    "collapsed": false
   },
   "outputs": [
    {
     "name": "stdout",
     "output_type": "stream",
     "text": [
      "Found 2441100 common tokens\n"
     ]
    }
   ],
   "source": [
    "def swap(record):\n",
    "    \"\"\" \n",
    "    Swap (token, (ID, URL)) to ((ID, URL), token)\n",
    "    \"\"\"\n",
    "    token = record[0]\n",
    "    keys = record[1]\n",
    "    return (keys, token)\n",
    "\n",
    "commonTokens = (amazonInvPairs\n",
    "                .join(googleInvPairs)\n",
    "                .map(swap)\n",
    "                .groupByKey()\n",
    "                .cache())\n",
    "\n",
    "print 'Found {} common tokens'.format(commonTokens.count())"
   ]
  },
  {
   "cell_type": "code",
   "execution_count": 22,
   "metadata": {
    "collapsed": false
   },
   "outputs": [
    {
     "name": "stdout",
     "output_type": "stream",
     "text": [
      "Total possible pair records is 2441100.\n"
     ]
    }
   ],
   "source": [
    "def Similarity(record):\n",
    "    \"\"\" \n",
    "    Compute Cosine Similarity using Broadcast variables\n",
    "    \"\"\"\n",
    "    amazonRec = record[0][0]\n",
    "    googleRec = record[0][1]\n",
    "    tokens = record[1]\n",
    "    s = sum([amazonWeightsBroadcast.value[amazonRec][token]*googleWeightsBroadcast.value[googleRec][token] for token in tokens])\n",
    "    value = s/(amazonNormsBroadcast.value[amazonRec]*googleNormsBroadcast.value[googleRec])\n",
    "    key = (amazonRec, googleRec)\n",
    "    return (key, value)\n",
    "\n",
    "similaritiesFull = (commonTokens\n",
    "                    .map(Similarity)\n",
    "                    .cache())\n",
    "\n",
    "print \"Total possible pair records is {}.\".format(similaritiesFull.count())"
   ]
  },
  {
   "cell_type": "markdown",
   "metadata": {},
   "source": [
    "# Evaluation\n",
    "\n",
    "Now we have an authoritative list of record-pair similarities, but we need a way to use those similarities to decide if two records are duplicates or not. The simplest approach is to pick a **threshold**. Pairs whose similarity is above the threshold are declared duplicates, and pairs below the threshold are declared distinct.\n",
    "\n",
    "To decide where to set the threshold we need to understand what kind of errors result at different levels. If we set the threshold too low, we get more **false positives**, that is, record-pairs we say are duplicates that in reality are not. If we set the threshold too high, we get more **false negatives**, that is, record-pairs that really are duplicates but that we miss.\n",
    "\n",
    "ER algorithms are evaluated by the common metrics of information retrieval and search called **precision** and **recall**. Precision asks, of all the record-pairs marked duplicates, what fraction are true duplicates? Recall asks, of all the true duplicates in the data, what fraction did we successfully find? As with false positives and false negatives, there is a trade-off between precision and recall. A third metric, called **F-measure**, takes the harmonic mean of precision and recall to measure overall goodness in a single value:\n",
    "\\\\[ Fmeasure = 2 \\frac{precision * recall}{precision + recall} \\\\]"
   ]
  },
  {
   "cell_type": "code",
   "execution_count": 24,
   "metadata": {
    "collapsed": true
   },
   "outputs": [],
   "source": [
    "GOLDFILE_PATTERN = '^(.+),(.+)'\n",
    "\n",
    "# Parse each line of a data file useing the specified regular expression pattern\n",
    "def parse_goldfile_line(goldfile_line):\n",
    "    \"\"\" Parse a line from the 'golden standard' data file\n",
    "    Args:\n",
    "        goldfile_line: a line of data\n",
    "    Returns:\n",
    "        pair: ((key, 'gold', 1 if successful or else 0))\n",
    "    \"\"\"\n",
    "    match = re.search(GOLDFILE_PATTERN, goldfile_line)\n",
    "    if match is None:\n",
    "        print 'Invalid goldfile line: {}'.format(goldfile_line)\n",
    "        return (goldfile_line, -1)\n",
    "    elif match.group(1) == '\"idAmazon\"':\n",
    "        print 'Header datafile line: {}'.format(goldfile_line)\n",
    "        return (goldfile_line, 0)\n",
    "    else:\n",
    "        key = '{} {}'.format(removeQuotes(match.group(1)), removeQuotes(match.group(2)))\n",
    "        return ((key, 'gold'), 1)\n",
    "\n",
    "gsRaw = (sc\n",
    "         .textFile(dir_path+\"Amazon_Google_perfectMapping.csv\")\n",
    "         .map(parse_goldfile_line)\n",
    "         .cache())\n",
    "\n",
    "goldStandard = (gsRaw\n",
    "                .filter(lambda s: s[1] == 1)\n",
    "                .map(lambda s: s[0])\n",
    "                .cache())"
   ]
  },
  {
   "cell_type": "code",
   "execution_count": 34,
   "metadata": {
    "collapsed": false
   },
   "outputs": [
    {
     "name": "stdout",
     "output_type": "stream",
     "text": [
      "There are 1300 true duplicates.\n"
     ]
    }
   ],
   "source": [
    "simsFull = similaritiesFull.map(lambda x: (\"%s %s\" % (x[0][0], x[0][1]), x[1]))\n",
    "\n",
    "# This helper function will return the similarity score for records that are in the gold standard \n",
    "def gs_value(record):\n",
    "    if (record[1][1] is None):\n",
    "        return 0\n",
    "    else:\n",
    "        return record[1][1]\n",
    "\n",
    "# Join the gold standard and simsFull, and then extract the similarities scores using the helper function\n",
    "trueDupSims = (goldStandard\n",
    "                  .leftOuterJoin(simsFull)\n",
    "                  .map(gs_value)\n",
    "                  .cache())\n",
    "print 'There are {} true duplicates.'.format(trueDupSims.count())"
   ]
  },
  {
   "cell_type": "code",
   "execution_count": 41,
   "metadata": {
    "collapsed": false
   },
   "outputs": [],
   "source": [
    "# Create an RDD of just the similarity scores\n",
    "simsFullValues = (simsFull\n",
    "                    .map(lambda x: x[1])\n",
    "                    .cache())\n",
    "\n",
    "from pyspark.accumulators import AccumulatorParam\n",
    "class VectorAccumulatorParam(AccumulatorParam):\n",
    "    # Initialize the VectorAccumulator to 0\n",
    "    def zero(self, value):\n",
    "        return [0] * len(value)\n",
    "\n",
    "    # Add two VectorAccumulator variables\n",
    "    def addInPlace(self, val1, val2):\n",
    "        for i in xrange(len(val1)):\n",
    "            val1[i] += val2[i]\n",
    "        return val1\n",
    "\n",
    "# Return a list with entry x set to value and all other entries set to 0\n",
    "def set_bit(x, value, length):\n",
    "    bits = []\n",
    "    for y in xrange(length):\n",
    "        if (x == y):\n",
    "            bits.append(value)\n",
    "        else:\n",
    "            bits.append(0)\n",
    "    return bits\n",
    "\n",
    "# Pre-bin counts of false positives for different threshold ranges\n",
    "BINS = 101\n",
    "nthresholds = 100\n",
    "def bin(similarity):\n",
    "    return int(similarity * nthresholds)\n",
    "\n",
    "# fpCounts[i] = number of entries (possible false positives) where bin(similarity) == i\n",
    "zeros = [0] * BINS\n",
    "fpCounts = sc.accumulator(zeros, VectorAccumulatorParam())\n",
    "\n",
    "def add_element(score):\n",
    "    global fpCounts\n",
    "    b = bin(score)\n",
    "    fpCounts += set_bit(b, 1, BINS)\n",
    "\n",
    "simsFullValues.foreach(add_element)\n",
    "\n",
    "# Remove true positives from FP counts\n",
    "def sub_element(score):\n",
    "    global fpCounts\n",
    "    b = bin(score)\n",
    "    fpCounts += set_bit(b, -1, BINS)\n",
    "\n",
    "trueDupSims.foreach(sub_element)\n",
    "\n",
    "def falsepos(threshold):\n",
    "    fpList = fpCounts.value\n",
    "    return sum([fpList[b] for b in range(0, BINS) if float(b) / nthresholds >= threshold])\n",
    "\n",
    "def falseneg(threshold):\n",
    "    return trueDupSims.filter(lambda x: x < threshold).count()\n",
    "\n",
    "def truepos(threshold):\n",
    "    return trueDupSims.count() - falsenegDict[threshold]"
   ]
  },
  {
   "cell_type": "code",
   "execution_count": 42,
   "metadata": {
    "collapsed": true
   },
   "outputs": [],
   "source": [
    "def precision(threshold):\n",
    "    tp = trueposDict[threshold]\n",
    "    return float(tp) / (tp + falseposDict[threshold])\n",
    "\n",
    "def recall(threshold):\n",
    "    tp = trueposDict[threshold]\n",
    "    return float(tp) / (tp + falsenegDict[threshold])\n",
    "\n",
    "def fmeasure(threshold):\n",
    "    r = recall(threshold)\n",
    "    p = precision(threshold)\n",
    "    return 2 * r * p / (r + p)"
   ]
  },
  {
   "cell_type": "code",
   "execution_count": 45,
   "metadata": {
    "collapsed": false
   },
   "outputs": [],
   "source": [
    "thresholds = [float(n) / nthresholds for n in range(0, nthresholds)]\n",
    "falseposDict = dict([(t, falsepos(t)) for t in thresholds])\n",
    "falsenegDict = dict([(t, falseneg(t)) for t in thresholds])\n",
    "trueposDict = dict([(t, truepos(t)) for t in thresholds])\n",
    "\n",
    "precisions = [precision(t) for t in thresholds]\n",
    "recalls = [recall(t) for t in thresholds]\n",
    "fmeasures = [fmeasure(t) for t in thresholds]"
   ]
  },
  {
   "cell_type": "code",
   "execution_count": 50,
   "metadata": {
    "collapsed": false
   },
   "outputs": [
    {
     "data": {
      "text/plain": [
       "<matplotlib.legend.Legend at 0x10fdf9290>"
      ]
     },
     "execution_count": 50,
     "metadata": {},
     "output_type": "execute_result"
    },
    {
     "data": {
      "image/png": "[encoded data removed]",
      "text/plain": [
       "<matplotlib.figure.Figure at 0x10f9ff350>"
      ]
     },
     "metadata": {},
     "output_type": "display_data"
    }
   ],
   "source": [
    "fig = plt.figure(figsize=(8,6))\n",
    "plt.plot(thresholds, precisions)\n",
    "plt.plot(thresholds, recalls)\n",
    "plt.plot(thresholds, fmeasures)\n",
    "plt.xlabel(\"Threshold\")\n",
    "plt.ylabel(\"Value\")\n",
    "plt.title(\"Comparison of Recall, Precision and F1-Score\")\n",
    "plt.legend(['Precision', 'Recall', 'F1-Score'])"
   ]
  },
  {
   "cell_type": "markdown",
   "metadata": {},
   "source": [
    "# Conclusion\n",
    "\n",
    "State-of-the-art tools can get an F1-Score of about 60% on this dataset. In this notebook, our best F1-Score is closer to 40%. Look at some examples of errors (both False Positives and False Negatives) and think about what went wrong.\n",
    "\n",
    "### There are several ways we might improve our simple classifier, including:\n",
    "* Using additional attributes\n",
    "* Performing better featurization of our textual data (e.g., stemming, n-grams, etc.)\n",
    "* Using different similarity functions"
   ]
  }
 ],
 "metadata": {
  "kernelspec": {
   "display_name": "Python 2",
   "language": "python",
   "name": "python2"
  },
  "language_info": {
   "codemirror_mode": {
    "name": "ipython",
    "version": 2
   },
   "file_extension": ".py",
   "mimetype": "text/x-python",
   "name": "python",
   "nbconvert_exporter": "python",
   "pygments_lexer": "ipython2",
   "version": "2.7.11"
  }
 },
 "nbformat": 4,
 "nbformat_minor": 0
}
